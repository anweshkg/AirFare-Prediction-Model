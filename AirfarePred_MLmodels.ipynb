{
 "cells": [
  {
   "cell_type": "markdown",
   "metadata": {},
   "source": [
    "### Importing required libraries"
   ]
  },
  {
   "cell_type": "code",
   "execution_count": 1,
   "metadata": {},
   "outputs": [],
   "source": [
    "import numpy as np\n",
    "import pandas as pd\n",
    "import matplotlib.pyplot as plt\n",
    "import seaborn as sns\n",
    "import pickle as pkl\n",
    "\n",
    "sns.set()"
   ]
  },
  {
   "cell_type": "markdown",
   "metadata": {},
   "source": [
    "### Exploratory data analysis (EDA) of the scraped data"
   ]
  },
  {
   "cell_type": "code",
   "execution_count": 2,
   "metadata": {},
   "outputs": [],
   "source": [
    "df_1 = pd.read_csv(\"scraped_data/BOM_BLR.csv\")\n",
    "df_2 = pd.read_csv(\"scraped_data/BOM_DEL.csv\")\n",
    "df_3 = pd.read_csv(\"scraped_data/DEL_BLR.csv\")\n",
    "df_4 = pd.read_csv(\"scraped_data/DEL_BOM.csv\")"
   ]
  },
  {
   "cell_type": "code",
   "execution_count": 3,
   "metadata": {},
   "outputs": [
    {
     "name": "stdout",
     "output_type": "stream",
     "text": [
      "Number of entries from each route\n",
      "\n",
      "df_1  ::  BOM - BLR => 3254 entries\n",
      "df_2  ::  BOM - DEL => 5772 entries\n",
      "df_3  ::  DEL - BLR => 5631 entries\n",
      "df_4  ::  DEL - BOM => 5346 entries\n"
     ]
    }
   ],
   "source": [
    "print(\"Number of entries from each route\\n\")\n",
    "print(f\"df_1  ::  {df_1['Source'][0]} - {df_1['Destination'][0]} => {df_1.shape[0]} entries\")\n",
    "print(f\"df_2  ::  {df_2['Source'][0]} - {df_2['Destination'][0]} => {df_2.shape[0]} entries\")\n",
    "print(f\"df_3  ::  {df_3['Source'][0]} - {df_3['Destination'][0]} => {df_3.shape[0]} entries\")\n",
    "print(f\"df_4  ::  {df_4['Source'][0]} - {df_4['Destination'][0]} => {df_4.shape[0]} entries\")"
   ]
  },
  {
   "cell_type": "code",
   "execution_count": 4,
   "metadata": {},
   "outputs": [
    {
     "data": {
      "text/html": [
       "<div>\n",
       "<style scoped>\n",
       "    .dataframe tbody tr th:only-of-type {\n",
       "        vertical-align: middle;\n",
       "    }\n",
       "\n",
       "    .dataframe tbody tr th {\n",
       "        vertical-align: top;\n",
       "    }\n",
       "\n",
       "    .dataframe thead th {\n",
       "        text-align: right;\n",
       "    }\n",
       "</style>\n",
       "<table border=\"1\" class=\"dataframe\">\n",
       "  <thead>\n",
       "    <tr style=\"text-align: right;\">\n",
       "      <th></th>\n",
       "      <th>Airline</th>\n",
       "      <th>Source</th>\n",
       "      <th>Destination</th>\n",
       "      <th>Dep time</th>\n",
       "      <th>Arr time</th>\n",
       "      <th>Duration</th>\n",
       "      <th>Total stops</th>\n",
       "      <th>Date</th>\n",
       "      <th>Price</th>\n",
       "    </tr>\n",
       "  </thead>\n",
       "  <tbody>\n",
       "    <tr>\n",
       "      <th>0</th>\n",
       "      <td>Vistara</td>\n",
       "      <td>BOM</td>\n",
       "      <td>BLR</td>\n",
       "      <td>17:30</td>\n",
       "      <td>19:15</td>\n",
       "      <td>1h45m</td>\n",
       "      <td>direct</td>\n",
       "      <td>2022-01-01</td>\n",
       "      <td>5418</td>\n",
       "    </tr>\n",
       "    <tr>\n",
       "      <th>1</th>\n",
       "      <td>GoFirst</td>\n",
       "      <td>BOM</td>\n",
       "      <td>BLR</td>\n",
       "      <td>06:05</td>\n",
       "      <td>07:40</td>\n",
       "      <td>1h35m</td>\n",
       "      <td>direct</td>\n",
       "      <td>2022-01-01</td>\n",
       "      <td>5100</td>\n",
       "    </tr>\n",
       "    <tr>\n",
       "      <th>2</th>\n",
       "      <td>GoFirst</td>\n",
       "      <td>BOM</td>\n",
       "      <td>BLR</td>\n",
       "      <td>14:35</td>\n",
       "      <td>16:10</td>\n",
       "      <td>1h35m</td>\n",
       "      <td>direct</td>\n",
       "      <td>2022-01-01</td>\n",
       "      <td>5100</td>\n",
       "    </tr>\n",
       "    <tr>\n",
       "      <th>3</th>\n",
       "      <td>IndiGo</td>\n",
       "      <td>BOM</td>\n",
       "      <td>BLR</td>\n",
       "      <td>08:30</td>\n",
       "      <td>10:05</td>\n",
       "      <td>1h35m</td>\n",
       "      <td>direct</td>\n",
       "      <td>2022-01-01</td>\n",
       "      <td>5103</td>\n",
       "    </tr>\n",
       "    <tr>\n",
       "      <th>4</th>\n",
       "      <td>IndiGo</td>\n",
       "      <td>BOM</td>\n",
       "      <td>BLR</td>\n",
       "      <td>06:55</td>\n",
       "      <td>08:30</td>\n",
       "      <td>1h35m</td>\n",
       "      <td>direct</td>\n",
       "      <td>2022-01-01</td>\n",
       "      <td>5103</td>\n",
       "    </tr>\n",
       "  </tbody>\n",
       "</table>\n",
       "</div>"
      ],
      "text/plain": [
       "   Airline Source Destination Dep time Arr time Duration Total stops  \\\n",
       "0  Vistara    BOM         BLR    17:30    19:15    1h45m      direct   \n",
       "1  GoFirst    BOM         BLR    06:05    07:40    1h35m      direct   \n",
       "2  GoFirst    BOM         BLR    14:35    16:10    1h35m      direct   \n",
       "3   IndiGo    BOM         BLR    08:30    10:05    1h35m      direct   \n",
       "4   IndiGo    BOM         BLR    06:55    08:30    1h35m      direct   \n",
       "\n",
       "         Date  Price  \n",
       "0  2022-01-01   5418  \n",
       "1  2022-01-01   5100  \n",
       "2  2022-01-01   5100  \n",
       "3  2022-01-01   5103  \n",
       "4  2022-01-01   5103  "
      ]
     },
     "execution_count": 4,
     "metadata": {},
     "output_type": "execute_result"
    }
   ],
   "source": [
    "df_1.head()"
   ]
  },
  {
   "cell_type": "code",
   "execution_count": 5,
   "metadata": {},
   "outputs": [],
   "source": [
    "def clean_duration(duration):\n",
    "    duration = list(duration)\n",
    "    duration_hours = []\n",
    "    duration_mins = []\n",
    "\n",
    "    \n",
    "    for i in range(len(duration)):\n",
    "            \n",
    "        duration_hours.append(int(duration[i].split(sep = \"h\")[0]))     # Extract hours from duration\n",
    "        duration_mins.append(int(duration[i].split(sep = \"m\")[0].split('h')[-1]))   # Extracts only minutes from duration\n",
    "        \n",
    "\n",
    "    d = []\n",
    "    for i in range(len(duration)):\n",
    "        d.append(duration_hours[i]*60+duration_mins[i])\n",
    "        \n",
    "    return d\n",
    "\n",
    "def clean_date(date):\n",
    "        date = pd.to_datetime(date)\n",
    "        return date\n",
    "    "
   ]
  },
  {
   "cell_type": "code",
   "execution_count": 7,
   "metadata": {},
   "outputs": [],
   "source": [
    "dfs_raw = [df_1,df_2,df_3,df_4]"
   ]
  },
  {
   "cell_type": "code",
   "execution_count": 8,
   "metadata": {},
   "outputs": [],
   "source": [
    "dfs = []\n",
    "for df in dfs_raw:\n",
    "    df.drop_duplicates() # drop duplicate rows\n",
    "    df[\"Duration\"] = clean_duration(df[\"Duration\"]) # convert duration to numerical minutes format\n",
    "    df[\"Date\"] = clean_date(df[\"Date\"]) # convert date to datetime format"
   ]
  },
  {
   "cell_type": "code",
   "execution_count": 9,
   "metadata": {},
   "outputs": [
    {
     "data": {
      "text/html": [
       "<div>\n",
       "<style scoped>\n",
       "    .dataframe tbody tr th:only-of-type {\n",
       "        vertical-align: middle;\n",
       "    }\n",
       "\n",
       "    .dataframe tbody tr th {\n",
       "        vertical-align: top;\n",
       "    }\n",
       "\n",
       "    .dataframe thead th {\n",
       "        text-align: right;\n",
       "    }\n",
       "</style>\n",
       "<table border=\"1\" class=\"dataframe\">\n",
       "  <thead>\n",
       "    <tr style=\"text-align: right;\">\n",
       "      <th></th>\n",
       "      <th>Airline</th>\n",
       "      <th>Source</th>\n",
       "      <th>Destination</th>\n",
       "      <th>Dep time</th>\n",
       "      <th>Arr time</th>\n",
       "      <th>Duration</th>\n",
       "      <th>Total stops</th>\n",
       "      <th>Date</th>\n",
       "      <th>Price</th>\n",
       "    </tr>\n",
       "  </thead>\n",
       "  <tbody>\n",
       "    <tr>\n",
       "      <th>5767</th>\n",
       "      <td>SpiceJet</td>\n",
       "      <td>BOM</td>\n",
       "      <td>DEL</td>\n",
       "      <td>12.30</td>\n",
       "      <td>17.40</td>\n",
       "      <td>310</td>\n",
       "      <td>1stop</td>\n",
       "      <td>2022-01-03</td>\n",
       "      <td>29737</td>\n",
       "    </tr>\n",
       "    <tr>\n",
       "      <th>5768</th>\n",
       "      <td>SpiceJet</td>\n",
       "      <td>BOM</td>\n",
       "      <td>DEL</td>\n",
       "      <td>11.20</td>\n",
       "      <td>17.35</td>\n",
       "      <td>375</td>\n",
       "      <td>1stop</td>\n",
       "      <td>2022-01-03</td>\n",
       "      <td>31744</td>\n",
       "    </tr>\n",
       "    <tr>\n",
       "      <th>5769</th>\n",
       "      <td>SpiceJet</td>\n",
       "      <td>BOM</td>\n",
       "      <td>DEL</td>\n",
       "      <td>11.15</td>\n",
       "      <td>17.45</td>\n",
       "      <td>390</td>\n",
       "      <td>1stop</td>\n",
       "      <td>2022-01-03</td>\n",
       "      <td>31744</td>\n",
       "    </tr>\n",
       "    <tr>\n",
       "      <th>5770</th>\n",
       "      <td>SpiceJet</td>\n",
       "      <td>BOM</td>\n",
       "      <td>DEL</td>\n",
       "      <td>15.30</td>\n",
       "      <td>22.10</td>\n",
       "      <td>400</td>\n",
       "      <td>1stop</td>\n",
       "      <td>2022-01-03</td>\n",
       "      <td>31744</td>\n",
       "    </tr>\n",
       "    <tr>\n",
       "      <th>5771</th>\n",
       "      <td>SpiceJetAlaskaSeaplanes</td>\n",
       "      <td>BOM</td>\n",
       "      <td>DEL</td>\n",
       "      <td>14.55</td>\n",
       "      <td>21.15</td>\n",
       "      <td>380</td>\n",
       "      <td>1stop</td>\n",
       "      <td>2022-01-03</td>\n",
       "      <td>33122</td>\n",
       "    </tr>\n",
       "  </tbody>\n",
       "</table>\n",
       "</div>"
      ],
      "text/plain": [
       "                      Airline Source Destination  Dep time  Arr time  \\\n",
       "5767                 SpiceJet    BOM         DEL     12.30     17.40   \n",
       "5768                 SpiceJet    BOM         DEL     11.20     17.35   \n",
       "5769                 SpiceJet    BOM         DEL     11.15     17.45   \n",
       "5770                 SpiceJet    BOM         DEL     15.30     22.10   \n",
       "5771  SpiceJetAlaskaSeaplanes    BOM         DEL     14.55     21.15   \n",
       "\n",
       "      Duration Total stops       Date  Price  \n",
       "5767       310       1stop 2022-01-03  29737  \n",
       "5768       375       1stop 2022-01-03  31744  \n",
       "5769       390       1stop 2022-01-03  31744  \n",
       "5770       400       1stop 2022-01-03  31744  \n",
       "5771       380       1stop 2022-01-03  33122  "
      ]
     },
     "execution_count": 9,
     "metadata": {},
     "output_type": "execute_result"
    }
   ],
   "source": [
    "df_2.tail()"
   ]
  },
  {
   "cell_type": "code",
   "execution_count": 10,
   "metadata": {},
   "outputs": [],
   "source": [
    "df_1= df_1.set_index(\"Airline\")\n",
    "df_1= df_1.drop([ 'AirIndiaExpressIndiGo', 'GoFirstIndiGo',\n",
    "        'IndiGoAirIndia', 'IndiGoVistara',\n",
    "       'VistaraIndiGo'])\n",
    "df_1.reset_index(inplace = True)\n",
    "\n"
   ]
  },
  {
   "cell_type": "code",
   "execution_count": 11,
   "metadata": {},
   "outputs": [],
   "source": [
    "\n",
    "df_2= df_2.set_index(\"Airline\")\n",
    "df_2= df_2.drop(['AirAsiaIndiaAirIndia', 'AirAsiaIndiaIndiGo', \n",
    "   'GoFirstAirAsiaIndia',\n",
    "   'GoFirstIndiGo', 'GoFirstVistara', 'IndiGoAirAsiaIndia',\n",
    "   'IndiGoAirIndia', 'IndiGoGoFirst', 'IndiGoSpiceJet', 'IndiGoVistara',\n",
    "   'MultipleAirlines', 'SpiceJetAirAsiaIndia',\n",
    "   'SpiceJetAirIndia', 'SpiceJetAlaskaSeaplanes', 'SpiceJetIndiGo',\n",
    "   'SpiceJetVistara', 'SriLankanAirlines', 'VistaraGoFirst',\n",
    "   'VistaraIndiGo'])\n",
    "df_2.reset_index(inplace = True)\n",
    "\n"
   ]
  },
  {
   "cell_type": "code",
   "execution_count": 12,
   "metadata": {},
   "outputs": [],
   "source": [
    "df_3= df_3.set_index(\"Airline\")\n",
    "df_3= df_3.drop(['AirAsiaIndiaGoFirst', 'AirAsiaIndiaIndiGo',\n",
    "        'AirIndiaAirAsiaIndia',\n",
    "       'AirIndiaGoFirst', 'AirIndiaIndiGo',\n",
    "       'AirIndiaVistara',\n",
    "       'IndiGoGoFirst', 'IndiGoSpiceJet',\n",
    "       'IndiGoVistara', 'MultipleAirlines',\n",
    "       'QatarAirways',\n",
    "       'SpiceJetAirAsiaIndia', 'SpiceJetIndiGo',\n",
    "        'VistaraGoFirst', 'VistaraIndiGo'])\n",
    "df_3.reset_index(inplace = True)\n"
   ]
  },
  {
   "cell_type": "code",
   "execution_count": 13,
   "metadata": {},
   "outputs": [],
   "source": [
    "df_4= df_4.set_index(\"Airline\")\n",
    "df_4= df_4.drop([ 'AlaskaSeaplanesSpiceJet',\n",
    "       'IndiGoGoFirst', 'IndiGoVistara','SpiceJetVistara',\n",
    "        'VistaraIndiGo'])\n",
    "df_4.reset_index(inplace = True)\n",
    "\n"
   ]
  },
  {
   "cell_type": "markdown",
   "metadata": {},
   "source": [
    "##### Number of entries from each route\n",
    "\n",
    "##### df_1  ::  BOM - BLR   =>   3254 entries\n",
    "##### df_2  ::  BOM - DEL   =>   5772 entries\n",
    "##### df_3  ::  DEL - BLR   =>   5631 entries\n",
    "##### df_4  ::  DEL - BOM   =>   5346 entries"
   ]
  },
  {
   "cell_type": "code",
   "execution_count": 14,
   "metadata": {},
   "outputs": [
    {
     "name": "stdout",
     "output_type": "stream",
     "text": [
      "Number of entries from each route\n",
      "\n",
      "df_1  ::  BOM - BLR => 3191 entries\n",
      "df_2  ::  BOM - DEL => 5337 entries\n",
      "df_3  ::  DEL - BLR => 5254 entries\n",
      "df_4  ::  DEL - BOM => 5216 entries\n"
     ]
    }
   ],
   "source": [
    "print(\"Number of entries from each route\\n\")\n",
    "print(f\"df_1  ::  {df_1['Source'][0]} - {df_1['Destination'][0]} => {df_1.shape[0]} entries\")\n",
    "print(f\"df_2  ::  {df_2['Source'][0]} - {df_2['Destination'][0]} => {df_2.shape[0]} entries\")\n",
    "print(f\"df_3  ::  {df_3['Source'][0]} - {df_3['Destination'][0]} => {df_3.shape[0]} entries\")\n",
    "print(f\"df_4  ::  {df_4['Source'][0]} - {df_4['Destination'][0]} => {df_4.shape[0]} entries\")"
   ]
  },
  {
   "cell_type": "code",
   "execution_count": 15,
   "metadata": {},
   "outputs": [
    {
     "data": {
      "text/html": [
       "<div>\n",
       "<style scoped>\n",
       "    .dataframe tbody tr th:only-of-type {\n",
       "        vertical-align: middle;\n",
       "    }\n",
       "\n",
       "    .dataframe tbody tr th {\n",
       "        vertical-align: top;\n",
       "    }\n",
       "\n",
       "    .dataframe thead th {\n",
       "        text-align: right;\n",
       "    }\n",
       "</style>\n",
       "<table border=\"1\" class=\"dataframe\">\n",
       "  <thead>\n",
       "    <tr style=\"text-align: right;\">\n",
       "      <th></th>\n",
       "      <th>Airline</th>\n",
       "      <th>Source</th>\n",
       "      <th>Destination</th>\n",
       "      <th>Dep time</th>\n",
       "      <th>Arr time</th>\n",
       "      <th>Duration</th>\n",
       "      <th>Total stops</th>\n",
       "      <th>Date</th>\n",
       "      <th>Price</th>\n",
       "    </tr>\n",
       "  </thead>\n",
       "  <tbody>\n",
       "    <tr>\n",
       "      <th>0</th>\n",
       "      <td>Vistara</td>\n",
       "      <td>BOM</td>\n",
       "      <td>BLR</td>\n",
       "      <td>17:30</td>\n",
       "      <td>19:15</td>\n",
       "      <td>105</td>\n",
       "      <td>direct</td>\n",
       "      <td>2022-01-01</td>\n",
       "      <td>5418</td>\n",
       "    </tr>\n",
       "    <tr>\n",
       "      <th>1</th>\n",
       "      <td>GoFirst</td>\n",
       "      <td>BOM</td>\n",
       "      <td>BLR</td>\n",
       "      <td>06:05</td>\n",
       "      <td>07:40</td>\n",
       "      <td>95</td>\n",
       "      <td>direct</td>\n",
       "      <td>2022-01-01</td>\n",
       "      <td>5100</td>\n",
       "    </tr>\n",
       "    <tr>\n",
       "      <th>2</th>\n",
       "      <td>GoFirst</td>\n",
       "      <td>BOM</td>\n",
       "      <td>BLR</td>\n",
       "      <td>14:35</td>\n",
       "      <td>16:10</td>\n",
       "      <td>95</td>\n",
       "      <td>direct</td>\n",
       "      <td>2022-01-01</td>\n",
       "      <td>5100</td>\n",
       "    </tr>\n",
       "    <tr>\n",
       "      <th>3</th>\n",
       "      <td>IndiGo</td>\n",
       "      <td>BOM</td>\n",
       "      <td>BLR</td>\n",
       "      <td>08:30</td>\n",
       "      <td>10:05</td>\n",
       "      <td>95</td>\n",
       "      <td>direct</td>\n",
       "      <td>2022-01-01</td>\n",
       "      <td>5103</td>\n",
       "    </tr>\n",
       "    <tr>\n",
       "      <th>4</th>\n",
       "      <td>IndiGo</td>\n",
       "      <td>BOM</td>\n",
       "      <td>BLR</td>\n",
       "      <td>06:55</td>\n",
       "      <td>08:30</td>\n",
       "      <td>95</td>\n",
       "      <td>direct</td>\n",
       "      <td>2022-01-01</td>\n",
       "      <td>5103</td>\n",
       "    </tr>\n",
       "  </tbody>\n",
       "</table>\n",
       "</div>"
      ],
      "text/plain": [
       "   Airline Source Destination Dep time Arr time  Duration Total stops  \\\n",
       "0  Vistara    BOM         BLR    17:30    19:15       105      direct   \n",
       "1  GoFirst    BOM         BLR    06:05    07:40        95      direct   \n",
       "2  GoFirst    BOM         BLR    14:35    16:10        95      direct   \n",
       "3   IndiGo    BOM         BLR    08:30    10:05        95      direct   \n",
       "4   IndiGo    BOM         BLR    06:55    08:30        95      direct   \n",
       "\n",
       "        Date  Price  \n",
       "0 2022-01-01   5418  \n",
       "1 2022-01-01   5100  \n",
       "2 2022-01-01   5100  \n",
       "3 2022-01-01   5103  \n",
       "4 2022-01-01   5103  "
      ]
     },
     "execution_count": 15,
     "metadata": {},
     "output_type": "execute_result"
    }
   ],
   "source": [
    "df = pd.DataFrame()\n",
    "df = df.append(df_1, ignore_index=True)\n",
    "df = df.append(df_2, ignore_index=True)\n",
    "df = df.append(df_3, ignore_index=True)\n",
    "df = df.append(df_4, ignore_index=True)\n",
    "df.head()"
   ]
  },
  {
   "cell_type": "code",
   "execution_count": 16,
   "metadata": {},
   "outputs": [],
   "source": [
    "df.replace({\"direct\":0,\"1stop\":1, \"2stops\":2}, inplace=True)"
   ]
  },
  {
   "cell_type": "code",
   "execution_count": 17,
   "metadata": {},
   "outputs": [],
   "source": [
    "df[\"Total stops\"]=df[\"Total stops\"].astype(int)"
   ]
  },
  {
   "cell_type": "code",
   "execution_count": 18,
   "metadata": {},
   "outputs": [],
   "source": [
    "\n",
    "df[\"Journey_day\"]= pd.to_datetime(df[\"Date\"], format = \"%d/%m/%Y\").dt.day\n",
    "df[\"Journey_month\"]= pd.to_datetime(df[\"Date\"], format = \"%d/%m/%Y\").dt.month\n",
    "df[\"dep_hour\"]= pd.to_datetime(df[\"Dep time\"]).dt.hour\n",
    "df[\"dep_min\"]= pd.to_datetime(df[\"Dep time\"]).dt.minute\n",
    "df[\"arr_hour\"]= pd.to_datetime(df[\"Arr time\"]).dt.hour\n",
    "df[\"arr_min\"]= pd.to_datetime(df[\"Arr time\"]).dt.minute\n",
    "\n",
    "df.drop([\"Date\", \"Dep time\", \"Arr time\"], axis=1, inplace=True)"
   ]
  },
  {
   "cell_type": "code",
   "execution_count": 19,
   "metadata": {},
   "outputs": [
    {
     "data": {
      "text/html": [
       "<div>\n",
       "<style scoped>\n",
       "    .dataframe tbody tr th:only-of-type {\n",
       "        vertical-align: middle;\n",
       "    }\n",
       "\n",
       "    .dataframe tbody tr th {\n",
       "        vertical-align: top;\n",
       "    }\n",
       "\n",
       "    .dataframe thead th {\n",
       "        text-align: right;\n",
       "    }\n",
       "</style>\n",
       "<table border=\"1\" class=\"dataframe\">\n",
       "  <thead>\n",
       "    <tr style=\"text-align: right;\">\n",
       "      <th></th>\n",
       "      <th>Airline</th>\n",
       "      <th>Source</th>\n",
       "      <th>Destination</th>\n",
       "      <th>Duration</th>\n",
       "      <th>Total stops</th>\n",
       "      <th>Price</th>\n",
       "      <th>Journey_day</th>\n",
       "      <th>Journey_month</th>\n",
       "      <th>dep_hour</th>\n",
       "      <th>dep_min</th>\n",
       "      <th>arr_hour</th>\n",
       "      <th>arr_min</th>\n",
       "    </tr>\n",
       "  </thead>\n",
       "  <tbody>\n",
       "    <tr>\n",
       "      <th>0</th>\n",
       "      <td>Vistara</td>\n",
       "      <td>BOM</td>\n",
       "      <td>BLR</td>\n",
       "      <td>105</td>\n",
       "      <td>0</td>\n",
       "      <td>5418</td>\n",
       "      <td>1</td>\n",
       "      <td>1</td>\n",
       "      <td>17</td>\n",
       "      <td>30</td>\n",
       "      <td>19</td>\n",
       "      <td>15</td>\n",
       "    </tr>\n",
       "    <tr>\n",
       "      <th>1</th>\n",
       "      <td>GoFirst</td>\n",
       "      <td>BOM</td>\n",
       "      <td>BLR</td>\n",
       "      <td>95</td>\n",
       "      <td>0</td>\n",
       "      <td>5100</td>\n",
       "      <td>1</td>\n",
       "      <td>1</td>\n",
       "      <td>6</td>\n",
       "      <td>5</td>\n",
       "      <td>7</td>\n",
       "      <td>40</td>\n",
       "    </tr>\n",
       "    <tr>\n",
       "      <th>2</th>\n",
       "      <td>GoFirst</td>\n",
       "      <td>BOM</td>\n",
       "      <td>BLR</td>\n",
       "      <td>95</td>\n",
       "      <td>0</td>\n",
       "      <td>5100</td>\n",
       "      <td>1</td>\n",
       "      <td>1</td>\n",
       "      <td>14</td>\n",
       "      <td>35</td>\n",
       "      <td>16</td>\n",
       "      <td>10</td>\n",
       "    </tr>\n",
       "    <tr>\n",
       "      <th>3</th>\n",
       "      <td>IndiGo</td>\n",
       "      <td>BOM</td>\n",
       "      <td>BLR</td>\n",
       "      <td>95</td>\n",
       "      <td>0</td>\n",
       "      <td>5103</td>\n",
       "      <td>1</td>\n",
       "      <td>1</td>\n",
       "      <td>8</td>\n",
       "      <td>30</td>\n",
       "      <td>10</td>\n",
       "      <td>5</td>\n",
       "    </tr>\n",
       "    <tr>\n",
       "      <th>4</th>\n",
       "      <td>IndiGo</td>\n",
       "      <td>BOM</td>\n",
       "      <td>BLR</td>\n",
       "      <td>95</td>\n",
       "      <td>0</td>\n",
       "      <td>5103</td>\n",
       "      <td>1</td>\n",
       "      <td>1</td>\n",
       "      <td>6</td>\n",
       "      <td>55</td>\n",
       "      <td>8</td>\n",
       "      <td>30</td>\n",
       "    </tr>\n",
       "  </tbody>\n",
       "</table>\n",
       "</div>"
      ],
      "text/plain": [
       "   Airline Source Destination  Duration  Total stops  Price  Journey_day  \\\n",
       "0  Vistara    BOM         BLR       105            0   5418            1   \n",
       "1  GoFirst    BOM         BLR        95            0   5100            1   \n",
       "2  GoFirst    BOM         BLR        95            0   5100            1   \n",
       "3   IndiGo    BOM         BLR        95            0   5103            1   \n",
       "4   IndiGo    BOM         BLR        95            0   5103            1   \n",
       "\n",
       "   Journey_month  dep_hour  dep_min  arr_hour  arr_min  \n",
       "0              1        17       30        19       15  \n",
       "1              1         6        5         7       40  \n",
       "2              1        14       35        16       10  \n",
       "3              1         8       30        10        5  \n",
       "4              1         6       55         8       30  "
      ]
     },
     "execution_count": 19,
     "metadata": {},
     "output_type": "execute_result"
    }
   ],
   "source": [
    "df.head()"
   ]
  },
  {
   "cell_type": "code",
   "execution_count": 20,
   "metadata": {},
   "outputs": [
    {
     "data": {
      "text/plain": [
       "Vistara            5413\n",
       "IndiGo             5409\n",
       "GoFirst            3485\n",
       "SpiceJet           1628\n",
       "AirAsiaIndia       1560\n",
       "AirIndia           1342\n",
       "AlaskaSeaplanes      93\n",
       "flydubai             35\n",
       "Emirates             33\n",
       "Name: Airline, dtype: int64"
      ]
     },
     "execution_count": 20,
     "metadata": {},
     "output_type": "execute_result"
    }
   ],
   "source": [
    "df[\"Airline\"].value_counts()"
   ]
  },
  {
   "cell_type": "code",
   "execution_count": 21,
   "metadata": {},
   "outputs": [
    {
     "data": {
      "text/html": [
       "<div>\n",
       "<style scoped>\n",
       "    .dataframe tbody tr th:only-of-type {\n",
       "        vertical-align: middle;\n",
       "    }\n",
       "\n",
       "    .dataframe tbody tr th {\n",
       "        vertical-align: top;\n",
       "    }\n",
       "\n",
       "    .dataframe thead th {\n",
       "        text-align: right;\n",
       "    }\n",
       "</style>\n",
       "<table border=\"1\" class=\"dataframe\">\n",
       "  <thead>\n",
       "    <tr style=\"text-align: right;\">\n",
       "      <th></th>\n",
       "      <th>Airline_AirIndia</th>\n",
       "      <th>Airline_AlaskaSeaplanes</th>\n",
       "      <th>Airline_Emirates</th>\n",
       "      <th>Airline_GoFirst</th>\n",
       "      <th>Airline_IndiGo</th>\n",
       "      <th>Airline_SpiceJet</th>\n",
       "      <th>Airline_Vistara</th>\n",
       "      <th>Airline_flydubai</th>\n",
       "    </tr>\n",
       "  </thead>\n",
       "  <tbody>\n",
       "    <tr>\n",
       "      <th>0</th>\n",
       "      <td>0</td>\n",
       "      <td>0</td>\n",
       "      <td>0</td>\n",
       "      <td>0</td>\n",
       "      <td>0</td>\n",
       "      <td>0</td>\n",
       "      <td>1</td>\n",
       "      <td>0</td>\n",
       "    </tr>\n",
       "    <tr>\n",
       "      <th>1</th>\n",
       "      <td>0</td>\n",
       "      <td>0</td>\n",
       "      <td>0</td>\n",
       "      <td>1</td>\n",
       "      <td>0</td>\n",
       "      <td>0</td>\n",
       "      <td>0</td>\n",
       "      <td>0</td>\n",
       "    </tr>\n",
       "    <tr>\n",
       "      <th>2</th>\n",
       "      <td>0</td>\n",
       "      <td>0</td>\n",
       "      <td>0</td>\n",
       "      <td>1</td>\n",
       "      <td>0</td>\n",
       "      <td>0</td>\n",
       "      <td>0</td>\n",
       "      <td>0</td>\n",
       "    </tr>\n",
       "    <tr>\n",
       "      <th>3</th>\n",
       "      <td>0</td>\n",
       "      <td>0</td>\n",
       "      <td>0</td>\n",
       "      <td>0</td>\n",
       "      <td>1</td>\n",
       "      <td>0</td>\n",
       "      <td>0</td>\n",
       "      <td>0</td>\n",
       "    </tr>\n",
       "    <tr>\n",
       "      <th>4</th>\n",
       "      <td>0</td>\n",
       "      <td>0</td>\n",
       "      <td>0</td>\n",
       "      <td>0</td>\n",
       "      <td>1</td>\n",
       "      <td>0</td>\n",
       "      <td>0</td>\n",
       "      <td>0</td>\n",
       "    </tr>\n",
       "  </tbody>\n",
       "</table>\n",
       "</div>"
      ],
      "text/plain": [
       "   Airline_AirIndia  Airline_AlaskaSeaplanes  Airline_Emirates  \\\n",
       "0                 0                        0                 0   \n",
       "1                 0                        0                 0   \n",
       "2                 0                        0                 0   \n",
       "3                 0                        0                 0   \n",
       "4                 0                        0                 0   \n",
       "\n",
       "   Airline_GoFirst  Airline_IndiGo  Airline_SpiceJet  Airline_Vistara  \\\n",
       "0                0               0                 0                1   \n",
       "1                1               0                 0                0   \n",
       "2                1               0                 0                0   \n",
       "3                0               1                 0                0   \n",
       "4                0               1                 0                0   \n",
       "\n",
       "   Airline_flydubai  \n",
       "0                 0  \n",
       "1                 0  \n",
       "2                 0  \n",
       "3                 0  \n",
       "4                 0  "
      ]
     },
     "execution_count": 21,
     "metadata": {},
     "output_type": "execute_result"
    }
   ],
   "source": [
    "Airline = df[[\"Airline\"]]\n",
    "\n",
    "Airline = pd.get_dummies(Airline, drop_first= True)\n",
    "\n",
    "Airline.head()"
   ]
  },
  {
   "cell_type": "code",
   "execution_count": 22,
   "metadata": {},
   "outputs": [
    {
     "data": {
      "text/html": [
       "<div>\n",
       "<style scoped>\n",
       "    .dataframe tbody tr th:only-of-type {\n",
       "        vertical-align: middle;\n",
       "    }\n",
       "\n",
       "    .dataframe tbody tr th {\n",
       "        vertical-align: top;\n",
       "    }\n",
       "\n",
       "    .dataframe thead th {\n",
       "        text-align: right;\n",
       "    }\n",
       "</style>\n",
       "<table border=\"1\" class=\"dataframe\">\n",
       "  <thead>\n",
       "    <tr style=\"text-align: right;\">\n",
       "      <th></th>\n",
       "      <th>Source_DEL</th>\n",
       "    </tr>\n",
       "  </thead>\n",
       "  <tbody>\n",
       "    <tr>\n",
       "      <th>0</th>\n",
       "      <td>0</td>\n",
       "    </tr>\n",
       "    <tr>\n",
       "      <th>1</th>\n",
       "      <td>0</td>\n",
       "    </tr>\n",
       "    <tr>\n",
       "      <th>2</th>\n",
       "      <td>0</td>\n",
       "    </tr>\n",
       "    <tr>\n",
       "      <th>3</th>\n",
       "      <td>0</td>\n",
       "    </tr>\n",
       "    <tr>\n",
       "      <th>4</th>\n",
       "      <td>0</td>\n",
       "    </tr>\n",
       "  </tbody>\n",
       "</table>\n",
       "</div>"
      ],
      "text/plain": [
       "   Source_DEL\n",
       "0           0\n",
       "1           0\n",
       "2           0\n",
       "3           0\n",
       "4           0"
      ]
     },
     "execution_count": 22,
     "metadata": {},
     "output_type": "execute_result"
    }
   ],
   "source": [
    "Source = df[[\"Source\"]]\n",
    "\n",
    "Source = pd.get_dummies(Source, drop_first= True)\n",
    "\n",
    "Source.head()"
   ]
  },
  {
   "cell_type": "code",
   "execution_count": 23,
   "metadata": {},
   "outputs": [
    {
     "data": {
      "text/html": [
       "<div>\n",
       "<style scoped>\n",
       "    .dataframe tbody tr th:only-of-type {\n",
       "        vertical-align: middle;\n",
       "    }\n",
       "\n",
       "    .dataframe tbody tr th {\n",
       "        vertical-align: top;\n",
       "    }\n",
       "\n",
       "    .dataframe thead th {\n",
       "        text-align: right;\n",
       "    }\n",
       "</style>\n",
       "<table border=\"1\" class=\"dataframe\">\n",
       "  <thead>\n",
       "    <tr style=\"text-align: right;\">\n",
       "      <th></th>\n",
       "      <th>Destination_BOM</th>\n",
       "      <th>Destination_DEL</th>\n",
       "    </tr>\n",
       "  </thead>\n",
       "  <tbody>\n",
       "    <tr>\n",
       "      <th>0</th>\n",
       "      <td>0</td>\n",
       "      <td>0</td>\n",
       "    </tr>\n",
       "    <tr>\n",
       "      <th>1</th>\n",
       "      <td>0</td>\n",
       "      <td>0</td>\n",
       "    </tr>\n",
       "    <tr>\n",
       "      <th>2</th>\n",
       "      <td>0</td>\n",
       "      <td>0</td>\n",
       "    </tr>\n",
       "    <tr>\n",
       "      <th>3</th>\n",
       "      <td>0</td>\n",
       "      <td>0</td>\n",
       "    </tr>\n",
       "    <tr>\n",
       "      <th>4</th>\n",
       "      <td>0</td>\n",
       "      <td>0</td>\n",
       "    </tr>\n",
       "  </tbody>\n",
       "</table>\n",
       "</div>"
      ],
      "text/plain": [
       "   Destination_BOM  Destination_DEL\n",
       "0                0                0\n",
       "1                0                0\n",
       "2                0                0\n",
       "3                0                0\n",
       "4                0                0"
      ]
     },
     "execution_count": 23,
     "metadata": {},
     "output_type": "execute_result"
    }
   ],
   "source": [
    "Destination = df[[\"Destination\"]]\n",
    "\n",
    "Destination = pd.get_dummies(Destination, drop_first = True)\n",
    "\n",
    "Destination.head()"
   ]
  },
  {
   "cell_type": "code",
   "execution_count": 24,
   "metadata": {},
   "outputs": [],
   "source": [
    "finaldf= pd.concat([df, Airline, Source, Destination], axis=1)"
   ]
  },
  {
   "cell_type": "code",
   "execution_count": 25,
   "metadata": {},
   "outputs": [],
   "source": [
    "finaldf.drop([\"Airline\", \"Source\", \"Destination\"],axis=1, inplace= True)"
   ]
  },
  {
   "cell_type": "markdown",
   "metadata": {},
   "source": [
    "### Merging all to get one final dataframe"
   ]
  },
  {
   "cell_type": "code",
   "execution_count": 26,
   "metadata": {},
   "outputs": [
    {
     "data": {
      "text/html": [
       "<div>\n",
       "<style scoped>\n",
       "    .dataframe tbody tr th:only-of-type {\n",
       "        vertical-align: middle;\n",
       "    }\n",
       "\n",
       "    .dataframe tbody tr th {\n",
       "        vertical-align: top;\n",
       "    }\n",
       "\n",
       "    .dataframe thead th {\n",
       "        text-align: right;\n",
       "    }\n",
       "</style>\n",
       "<table border=\"1\" class=\"dataframe\">\n",
       "  <thead>\n",
       "    <tr style=\"text-align: right;\">\n",
       "      <th></th>\n",
       "      <th>Duration</th>\n",
       "      <th>Total stops</th>\n",
       "      <th>Price</th>\n",
       "      <th>Journey_day</th>\n",
       "      <th>Journey_month</th>\n",
       "      <th>dep_hour</th>\n",
       "      <th>dep_min</th>\n",
       "      <th>arr_hour</th>\n",
       "      <th>arr_min</th>\n",
       "      <th>Airline_AirIndia</th>\n",
       "      <th>Airline_AlaskaSeaplanes</th>\n",
       "      <th>Airline_Emirates</th>\n",
       "      <th>Airline_GoFirst</th>\n",
       "      <th>Airline_IndiGo</th>\n",
       "      <th>Airline_SpiceJet</th>\n",
       "      <th>Airline_Vistara</th>\n",
       "      <th>Airline_flydubai</th>\n",
       "      <th>Source_DEL</th>\n",
       "      <th>Destination_BOM</th>\n",
       "      <th>Destination_DEL</th>\n",
       "    </tr>\n",
       "  </thead>\n",
       "  <tbody>\n",
       "    <tr>\n",
       "      <th>0</th>\n",
       "      <td>105</td>\n",
       "      <td>0</td>\n",
       "      <td>5418</td>\n",
       "      <td>1</td>\n",
       "      <td>1</td>\n",
       "      <td>17</td>\n",
       "      <td>30</td>\n",
       "      <td>19</td>\n",
       "      <td>15</td>\n",
       "      <td>0</td>\n",
       "      <td>0</td>\n",
       "      <td>0</td>\n",
       "      <td>0</td>\n",
       "      <td>0</td>\n",
       "      <td>0</td>\n",
       "      <td>1</td>\n",
       "      <td>0</td>\n",
       "      <td>0</td>\n",
       "      <td>0</td>\n",
       "      <td>0</td>\n",
       "    </tr>\n",
       "    <tr>\n",
       "      <th>1</th>\n",
       "      <td>95</td>\n",
       "      <td>0</td>\n",
       "      <td>5100</td>\n",
       "      <td>1</td>\n",
       "      <td>1</td>\n",
       "      <td>6</td>\n",
       "      <td>5</td>\n",
       "      <td>7</td>\n",
       "      <td>40</td>\n",
       "      <td>0</td>\n",
       "      <td>0</td>\n",
       "      <td>0</td>\n",
       "      <td>1</td>\n",
       "      <td>0</td>\n",
       "      <td>0</td>\n",
       "      <td>0</td>\n",
       "      <td>0</td>\n",
       "      <td>0</td>\n",
       "      <td>0</td>\n",
       "      <td>0</td>\n",
       "    </tr>\n",
       "    <tr>\n",
       "      <th>2</th>\n",
       "      <td>95</td>\n",
       "      <td>0</td>\n",
       "      <td>5100</td>\n",
       "      <td>1</td>\n",
       "      <td>1</td>\n",
       "      <td>14</td>\n",
       "      <td>35</td>\n",
       "      <td>16</td>\n",
       "      <td>10</td>\n",
       "      <td>0</td>\n",
       "      <td>0</td>\n",
       "      <td>0</td>\n",
       "      <td>1</td>\n",
       "      <td>0</td>\n",
       "      <td>0</td>\n",
       "      <td>0</td>\n",
       "      <td>0</td>\n",
       "      <td>0</td>\n",
       "      <td>0</td>\n",
       "      <td>0</td>\n",
       "    </tr>\n",
       "    <tr>\n",
       "      <th>3</th>\n",
       "      <td>95</td>\n",
       "      <td>0</td>\n",
       "      <td>5103</td>\n",
       "      <td>1</td>\n",
       "      <td>1</td>\n",
       "      <td>8</td>\n",
       "      <td>30</td>\n",
       "      <td>10</td>\n",
       "      <td>5</td>\n",
       "      <td>0</td>\n",
       "      <td>0</td>\n",
       "      <td>0</td>\n",
       "      <td>0</td>\n",
       "      <td>1</td>\n",
       "      <td>0</td>\n",
       "      <td>0</td>\n",
       "      <td>0</td>\n",
       "      <td>0</td>\n",
       "      <td>0</td>\n",
       "      <td>0</td>\n",
       "    </tr>\n",
       "    <tr>\n",
       "      <th>4</th>\n",
       "      <td>95</td>\n",
       "      <td>0</td>\n",
       "      <td>5103</td>\n",
       "      <td>1</td>\n",
       "      <td>1</td>\n",
       "      <td>6</td>\n",
       "      <td>55</td>\n",
       "      <td>8</td>\n",
       "      <td>30</td>\n",
       "      <td>0</td>\n",
       "      <td>0</td>\n",
       "      <td>0</td>\n",
       "      <td>0</td>\n",
       "      <td>1</td>\n",
       "      <td>0</td>\n",
       "      <td>0</td>\n",
       "      <td>0</td>\n",
       "      <td>0</td>\n",
       "      <td>0</td>\n",
       "      <td>0</td>\n",
       "    </tr>\n",
       "  </tbody>\n",
       "</table>\n",
       "</div>"
      ],
      "text/plain": [
       "   Duration  Total stops  Price  Journey_day  Journey_month  dep_hour  \\\n",
       "0       105            0   5418            1              1        17   \n",
       "1        95            0   5100            1              1         6   \n",
       "2        95            0   5100            1              1        14   \n",
       "3        95            0   5103            1              1         8   \n",
       "4        95            0   5103            1              1         6   \n",
       "\n",
       "   dep_min  arr_hour  arr_min  Airline_AirIndia  Airline_AlaskaSeaplanes  \\\n",
       "0       30        19       15                 0                        0   \n",
       "1        5         7       40                 0                        0   \n",
       "2       35        16       10                 0                        0   \n",
       "3       30        10        5                 0                        0   \n",
       "4       55         8       30                 0                        0   \n",
       "\n",
       "   Airline_Emirates  Airline_GoFirst  Airline_IndiGo  Airline_SpiceJet  \\\n",
       "0                 0                0               0                 0   \n",
       "1                 0                1               0                 0   \n",
       "2                 0                1               0                 0   \n",
       "3                 0                0               1                 0   \n",
       "4                 0                0               1                 0   \n",
       "\n",
       "   Airline_Vistara  Airline_flydubai  Source_DEL  Destination_BOM  \\\n",
       "0                1                 0           0                0   \n",
       "1                0                 0           0                0   \n",
       "2                0                 0           0                0   \n",
       "3                0                 0           0                0   \n",
       "4                0                 0           0                0   \n",
       "\n",
       "   Destination_DEL  \n",
       "0                0  \n",
       "1                0  \n",
       "2                0  \n",
       "3                0  \n",
       "4                0  "
      ]
     },
     "execution_count": 26,
     "metadata": {},
     "output_type": "execute_result"
    }
   ],
   "source": [
    "finaldf.head()"
   ]
  },
  {
   "cell_type": "code",
   "execution_count": 27,
   "metadata": {},
   "outputs": [
    {
     "data": {
      "text/plain": [
       "(18998, 20)"
      ]
     },
     "execution_count": 27,
     "metadata": {},
     "output_type": "execute_result"
    }
   ],
   "source": [
    "finaldf.shape"
   ]
  },
  {
   "cell_type": "code",
   "execution_count": 28,
   "metadata": {},
   "outputs": [
    {
     "name": "stdout",
     "output_type": "stream",
     "text": [
      "<class 'pandas.core.frame.DataFrame'>\n",
      "RangeIndex: 18998 entries, 0 to 18997\n",
      "Data columns (total 20 columns):\n",
      " #   Column                   Non-Null Count  Dtype\n",
      "---  ------                   --------------  -----\n",
      " 0   Duration                 18998 non-null  int64\n",
      " 1   Total stops              18998 non-null  int32\n",
      " 2   Price                    18998 non-null  int64\n",
      " 3   Journey_day              18998 non-null  int64\n",
      " 4   Journey_month            18998 non-null  int64\n",
      " 5   dep_hour                 18998 non-null  int64\n",
      " 6   dep_min                  18998 non-null  int64\n",
      " 7   arr_hour                 18998 non-null  int64\n",
      " 8   arr_min                  18998 non-null  int64\n",
      " 9   Airline_AirIndia         18998 non-null  uint8\n",
      " 10  Airline_AlaskaSeaplanes  18998 non-null  uint8\n",
      " 11  Airline_Emirates         18998 non-null  uint8\n",
      " 12  Airline_GoFirst          18998 non-null  uint8\n",
      " 13  Airline_IndiGo           18998 non-null  uint8\n",
      " 14  Airline_SpiceJet         18998 non-null  uint8\n",
      " 15  Airline_Vistara          18998 non-null  uint8\n",
      " 16  Airline_flydubai         18998 non-null  uint8\n",
      " 17  Source_DEL               18998 non-null  uint8\n",
      " 18  Destination_BOM          18998 non-null  uint8\n",
      " 19  Destination_DEL          18998 non-null  uint8\n",
      "dtypes: int32(1), int64(8), uint8(11)\n",
      "memory usage: 1.4 MB\n"
     ]
    }
   ],
   "source": [
    "finaldf.info()"
   ]
  },
  {
   "cell_type": "code",
   "execution_count": 29,
   "metadata": {},
   "outputs": [
    {
     "data": {
      "text/html": [
       "<div>\n",
       "<style scoped>\n",
       "    .dataframe tbody tr th:only-of-type {\n",
       "        vertical-align: middle;\n",
       "    }\n",
       "\n",
       "    .dataframe tbody tr th {\n",
       "        vertical-align: top;\n",
       "    }\n",
       "\n",
       "    .dataframe thead th {\n",
       "        text-align: right;\n",
       "    }\n",
       "</style>\n",
       "<table border=\"1\" class=\"dataframe\">\n",
       "  <thead>\n",
       "    <tr style=\"text-align: right;\">\n",
       "      <th></th>\n",
       "      <th>Airline</th>\n",
       "      <th>Source</th>\n",
       "      <th>Destination</th>\n",
       "      <th>Duration</th>\n",
       "      <th>Total stops</th>\n",
       "      <th>Price</th>\n",
       "      <th>Journey_day</th>\n",
       "      <th>Journey_month</th>\n",
       "      <th>dep_hour</th>\n",
       "      <th>dep_min</th>\n",
       "      <th>arr_hour</th>\n",
       "      <th>arr_min</th>\n",
       "    </tr>\n",
       "  </thead>\n",
       "  <tbody>\n",
       "    <tr>\n",
       "      <th>0</th>\n",
       "      <td>Vistara</td>\n",
       "      <td>BOM</td>\n",
       "      <td>BLR</td>\n",
       "      <td>105</td>\n",
       "      <td>0</td>\n",
       "      <td>5418</td>\n",
       "      <td>1</td>\n",
       "      <td>1</td>\n",
       "      <td>17</td>\n",
       "      <td>30</td>\n",
       "      <td>19</td>\n",
       "      <td>15</td>\n",
       "    </tr>\n",
       "    <tr>\n",
       "      <th>1</th>\n",
       "      <td>GoFirst</td>\n",
       "      <td>BOM</td>\n",
       "      <td>BLR</td>\n",
       "      <td>95</td>\n",
       "      <td>0</td>\n",
       "      <td>5100</td>\n",
       "      <td>1</td>\n",
       "      <td>1</td>\n",
       "      <td>6</td>\n",
       "      <td>5</td>\n",
       "      <td>7</td>\n",
       "      <td>40</td>\n",
       "    </tr>\n",
       "    <tr>\n",
       "      <th>2</th>\n",
       "      <td>GoFirst</td>\n",
       "      <td>BOM</td>\n",
       "      <td>BLR</td>\n",
       "      <td>95</td>\n",
       "      <td>0</td>\n",
       "      <td>5100</td>\n",
       "      <td>1</td>\n",
       "      <td>1</td>\n",
       "      <td>14</td>\n",
       "      <td>35</td>\n",
       "      <td>16</td>\n",
       "      <td>10</td>\n",
       "    </tr>\n",
       "    <tr>\n",
       "      <th>3</th>\n",
       "      <td>IndiGo</td>\n",
       "      <td>BOM</td>\n",
       "      <td>BLR</td>\n",
       "      <td>95</td>\n",
       "      <td>0</td>\n",
       "      <td>5103</td>\n",
       "      <td>1</td>\n",
       "      <td>1</td>\n",
       "      <td>8</td>\n",
       "      <td>30</td>\n",
       "      <td>10</td>\n",
       "      <td>5</td>\n",
       "    </tr>\n",
       "    <tr>\n",
       "      <th>4</th>\n",
       "      <td>IndiGo</td>\n",
       "      <td>BOM</td>\n",
       "      <td>BLR</td>\n",
       "      <td>95</td>\n",
       "      <td>0</td>\n",
       "      <td>5103</td>\n",
       "      <td>1</td>\n",
       "      <td>1</td>\n",
       "      <td>6</td>\n",
       "      <td>55</td>\n",
       "      <td>8</td>\n",
       "      <td>30</td>\n",
       "    </tr>\n",
       "  </tbody>\n",
       "</table>\n",
       "</div>"
      ],
      "text/plain": [
       "   Airline Source Destination  Duration  Total stops  Price  Journey_day  \\\n",
       "0  Vistara    BOM         BLR       105            0   5418            1   \n",
       "1  GoFirst    BOM         BLR        95            0   5100            1   \n",
       "2  GoFirst    BOM         BLR        95            0   5100            1   \n",
       "3   IndiGo    BOM         BLR        95            0   5103            1   \n",
       "4   IndiGo    BOM         BLR        95            0   5103            1   \n",
       "\n",
       "   Journey_month  dep_hour  dep_min  arr_hour  arr_min  \n",
       "0              1        17       30        19       15  \n",
       "1              1         6        5         7       40  \n",
       "2              1        14       35        16       10  \n",
       "3              1         8       30        10        5  \n",
       "4              1         6       55         8       30  "
      ]
     },
     "execution_count": 29,
     "metadata": {},
     "output_type": "execute_result"
    }
   ],
   "source": [
    "df.head()"
   ]
  },
  {
   "cell_type": "code",
   "execution_count": 30,
   "metadata": {},
   "outputs": [
    {
     "name": "stdout",
     "output_type": "stream",
     "text": [
      "<class 'pandas.core.frame.DataFrame'>\n",
      "RangeIndex: 18998 entries, 0 to 18997\n",
      "Data columns (total 12 columns):\n",
      " #   Column         Non-Null Count  Dtype \n",
      "---  ------         --------------  ----- \n",
      " 0   Airline        18998 non-null  object\n",
      " 1   Source         18998 non-null  object\n",
      " 2   Destination    18998 non-null  object\n",
      " 3   Duration       18998 non-null  int64 \n",
      " 4   Total stops    18998 non-null  int32 \n",
      " 5   Price          18998 non-null  int64 \n",
      " 6   Journey_day    18998 non-null  int64 \n",
      " 7   Journey_month  18998 non-null  int64 \n",
      " 8   dep_hour       18998 non-null  int64 \n",
      " 9   dep_min        18998 non-null  int64 \n",
      " 10  arr_hour       18998 non-null  int64 \n",
      " 11  arr_min        18998 non-null  int64 \n",
      "dtypes: int32(1), int64(8), object(3)\n",
      "memory usage: 1.7+ MB\n"
     ]
    }
   ],
   "source": [
    "df.info()"
   ]
  },
  {
   "cell_type": "code",
   "execution_count": 31,
   "metadata": {
    "scrolled": true
   },
   "outputs": [
    {
     "data": {
      "text/plain": [
       "Index(['Duration', 'Total stops', 'Price', 'Journey_day', 'Journey_month',\n",
       "       'dep_hour', 'dep_min', 'arr_hour', 'arr_min', 'Airline_AirIndia',\n",
       "       'Airline_AlaskaSeaplanes', 'Airline_Emirates', 'Airline_GoFirst',\n",
       "       'Airline_IndiGo', 'Airline_SpiceJet', 'Airline_Vistara',\n",
       "       'Airline_flydubai', 'Source_DEL', 'Destination_BOM', 'Destination_DEL'],\n",
       "      dtype='object')"
      ]
     },
     "execution_count": 31,
     "metadata": {},
     "output_type": "execute_result"
    }
   ],
   "source": [
    "finaldf.columns"
   ]
  },
  {
   "cell_type": "code",
   "execution_count": 32,
   "metadata": {},
   "outputs": [
    {
     "data": {
      "text/html": [
       "<div>\n",
       "<style scoped>\n",
       "    .dataframe tbody tr th:only-of-type {\n",
       "        vertical-align: middle;\n",
       "    }\n",
       "\n",
       "    .dataframe tbody tr th {\n",
       "        vertical-align: top;\n",
       "    }\n",
       "\n",
       "    .dataframe thead th {\n",
       "        text-align: right;\n",
       "    }\n",
       "</style>\n",
       "<table border=\"1\" class=\"dataframe\">\n",
       "  <thead>\n",
       "    <tr style=\"text-align: right;\">\n",
       "      <th></th>\n",
       "      <th>Duration</th>\n",
       "      <th>Total stops</th>\n",
       "      <th>Journey_day</th>\n",
       "      <th>Journey_month</th>\n",
       "      <th>dep_hour</th>\n",
       "      <th>dep_min</th>\n",
       "      <th>arr_hour</th>\n",
       "      <th>arr_min</th>\n",
       "      <th>Airline_AirIndia</th>\n",
       "      <th>Airline_AlaskaSeaplanes</th>\n",
       "      <th>Airline_Emirates</th>\n",
       "      <th>Airline_GoFirst</th>\n",
       "      <th>Airline_IndiGo</th>\n",
       "      <th>Airline_SpiceJet</th>\n",
       "      <th>Airline_Vistara</th>\n",
       "      <th>Airline_flydubai</th>\n",
       "      <th>Source_DEL</th>\n",
       "      <th>Destination_BOM</th>\n",
       "      <th>Destination_DEL</th>\n",
       "    </tr>\n",
       "  </thead>\n",
       "  <tbody>\n",
       "    <tr>\n",
       "      <th>0</th>\n",
       "      <td>105</td>\n",
       "      <td>0</td>\n",
       "      <td>1</td>\n",
       "      <td>1</td>\n",
       "      <td>17</td>\n",
       "      <td>30</td>\n",
       "      <td>19</td>\n",
       "      <td>15</td>\n",
       "      <td>0</td>\n",
       "      <td>0</td>\n",
       "      <td>0</td>\n",
       "      <td>0</td>\n",
       "      <td>0</td>\n",
       "      <td>0</td>\n",
       "      <td>1</td>\n",
       "      <td>0</td>\n",
       "      <td>0</td>\n",
       "      <td>0</td>\n",
       "      <td>0</td>\n",
       "    </tr>\n",
       "    <tr>\n",
       "      <th>1</th>\n",
       "      <td>95</td>\n",
       "      <td>0</td>\n",
       "      <td>1</td>\n",
       "      <td>1</td>\n",
       "      <td>6</td>\n",
       "      <td>5</td>\n",
       "      <td>7</td>\n",
       "      <td>40</td>\n",
       "      <td>0</td>\n",
       "      <td>0</td>\n",
       "      <td>0</td>\n",
       "      <td>1</td>\n",
       "      <td>0</td>\n",
       "      <td>0</td>\n",
       "      <td>0</td>\n",
       "      <td>0</td>\n",
       "      <td>0</td>\n",
       "      <td>0</td>\n",
       "      <td>0</td>\n",
       "    </tr>\n",
       "    <tr>\n",
       "      <th>2</th>\n",
       "      <td>95</td>\n",
       "      <td>0</td>\n",
       "      <td>1</td>\n",
       "      <td>1</td>\n",
       "      <td>14</td>\n",
       "      <td>35</td>\n",
       "      <td>16</td>\n",
       "      <td>10</td>\n",
       "      <td>0</td>\n",
       "      <td>0</td>\n",
       "      <td>0</td>\n",
       "      <td>1</td>\n",
       "      <td>0</td>\n",
       "      <td>0</td>\n",
       "      <td>0</td>\n",
       "      <td>0</td>\n",
       "      <td>0</td>\n",
       "      <td>0</td>\n",
       "      <td>0</td>\n",
       "    </tr>\n",
       "    <tr>\n",
       "      <th>3</th>\n",
       "      <td>95</td>\n",
       "      <td>0</td>\n",
       "      <td>1</td>\n",
       "      <td>1</td>\n",
       "      <td>8</td>\n",
       "      <td>30</td>\n",
       "      <td>10</td>\n",
       "      <td>5</td>\n",
       "      <td>0</td>\n",
       "      <td>0</td>\n",
       "      <td>0</td>\n",
       "      <td>0</td>\n",
       "      <td>1</td>\n",
       "      <td>0</td>\n",
       "      <td>0</td>\n",
       "      <td>0</td>\n",
       "      <td>0</td>\n",
       "      <td>0</td>\n",
       "      <td>0</td>\n",
       "    </tr>\n",
       "    <tr>\n",
       "      <th>4</th>\n",
       "      <td>95</td>\n",
       "      <td>0</td>\n",
       "      <td>1</td>\n",
       "      <td>1</td>\n",
       "      <td>6</td>\n",
       "      <td>55</td>\n",
       "      <td>8</td>\n",
       "      <td>30</td>\n",
       "      <td>0</td>\n",
       "      <td>0</td>\n",
       "      <td>0</td>\n",
       "      <td>0</td>\n",
       "      <td>1</td>\n",
       "      <td>0</td>\n",
       "      <td>0</td>\n",
       "      <td>0</td>\n",
       "      <td>0</td>\n",
       "      <td>0</td>\n",
       "      <td>0</td>\n",
       "    </tr>\n",
       "  </tbody>\n",
       "</table>\n",
       "</div>"
      ],
      "text/plain": [
       "   Duration  Total stops  Journey_day  Journey_month  dep_hour  dep_min  \\\n",
       "0       105            0            1              1        17       30   \n",
       "1        95            0            1              1         6        5   \n",
       "2        95            0            1              1        14       35   \n",
       "3        95            0            1              1         8       30   \n",
       "4        95            0            1              1         6       55   \n",
       "\n",
       "   arr_hour  arr_min  Airline_AirIndia  Airline_AlaskaSeaplanes  \\\n",
       "0        19       15                 0                        0   \n",
       "1         7       40                 0                        0   \n",
       "2        16       10                 0                        0   \n",
       "3        10        5                 0                        0   \n",
       "4         8       30                 0                        0   \n",
       "\n",
       "   Airline_Emirates  Airline_GoFirst  Airline_IndiGo  Airline_SpiceJet  \\\n",
       "0                 0                0               0                 0   \n",
       "1                 0                1               0                 0   \n",
       "2                 0                1               0                 0   \n",
       "3                 0                0               1                 0   \n",
       "4                 0                0               1                 0   \n",
       "\n",
       "   Airline_Vistara  Airline_flydubai  Source_DEL  Destination_BOM  \\\n",
       "0                1                 0           0                0   \n",
       "1                0                 0           0                0   \n",
       "2                0                 0           0                0   \n",
       "3                0                 0           0                0   \n",
       "4                0                 0           0                0   \n",
       "\n",
       "   Destination_DEL  \n",
       "0                0  \n",
       "1                0  \n",
       "2                0  \n",
       "3                0  \n",
       "4                0  "
      ]
     },
     "execution_count": 32,
     "metadata": {},
     "output_type": "execute_result"
    }
   ],
   "source": [
    "X = finaldf.loc[:, ['Duration', 'Total stops', 'Journey_day', 'Journey_month',\n",
    "       'dep_hour', 'dep_min', 'arr_hour', 'arr_min', 'Airline_AirIndia',\n",
    "       'Airline_AlaskaSeaplanes', 'Airline_Emirates', 'Airline_GoFirst',\n",
    "       'Airline_IndiGo', 'Airline_SpiceJet', 'Airline_Vistara',\n",
    "       'Airline_flydubai', 'Source_DEL', 'Destination_BOM', 'Destination_DEL']]\n",
    "X.head()  #no price here"
   ]
  },
  {
   "cell_type": "code",
   "execution_count": 33,
   "metadata": {},
   "outputs": [
    {
     "data": {
      "text/plain": [
       "0    5418\n",
       "1    5100\n",
       "2    5100\n",
       "3    5103\n",
       "4    5103\n",
       "Name: Price, dtype: int64"
      ]
     },
     "execution_count": 33,
     "metadata": {},
     "output_type": "execute_result"
    }
   ],
   "source": [
    "y= finaldf.iloc[:, 2]\n",
    "y.head()    #price (target feature)"
   ]
  },
  {
   "cell_type": "markdown",
   "metadata": {},
   "source": [
    "### Heatmap for data visualisation"
   ]
  },
  {
   "cell_type": "code",
   "execution_count": 34,
   "metadata": {},
   "outputs": [
    {
     "data": {
      "image/png": "[encoded data removed]",
      "text/plain": [
       "<Figure size 1296x1296 with 2 Axes>"
      ]
     },
     "metadata": {},
     "output_type": "display_data"
    }
   ],
   "source": [
    "plt.figure(figsize = (18,18))\n",
    "sns.heatmap(df.corr(), annot = True, cmap = \"RdYlGn\")\n",
    "\n",
    "plt.show()"
   ]
  },
  {
   "cell_type": "code",
   "execution_count": 35,
   "metadata": {},
   "outputs": [
    {
     "data": {
      "text/plain": [
       "ExtraTreesRegressor()"
      ]
     },
     "execution_count": 35,
     "metadata": {},
     "output_type": "execute_result"
    }
   ],
   "source": [
    "from sklearn.ensemble import ExtraTreesRegressor\n",
    "selection = ExtraTreesRegressor()\n",
    "selection.fit(X, y)"
   ]
  },
  {
   "cell_type": "code",
   "execution_count": 36,
   "metadata": {},
   "outputs": [
    {
     "name": "stdout",
     "output_type": "stream",
     "text": [
      "[0.15187746 0.13156343 0.07010626 0.05358981 0.01630451 0.00454749\n",
      " 0.01302279 0.00544909 0.00135283 0.0292262  0.22440325 0.00137037\n",
      " 0.00795842 0.20088829 0.00325418 0.06204814 0.01022581 0.00518459\n",
      " 0.00762707]\n"
     ]
    }
   ],
   "source": [
    "print(selection.feature_importances_)"
   ]
  },
  {
   "cell_type": "code",
   "execution_count": 37,
   "metadata": {
    "scrolled": false
   },
   "outputs": [
    {
     "data": {
      "image/png": "[encoded data removed]",
      "text/plain": [
       "<Figure size 864x576 with 1 Axes>"
      ]
     },
     "metadata": {},
     "output_type": "display_data"
    }
   ],
   "source": [
    "plt.figure(figsize = (12,8))\n",
    "feat_importances = pd.Series(selection.feature_importances_, index=X.columns)\n",
    "feat_importances.nlargest(20).plot(kind='barh')\n",
    "plt.show()"
   ]
  },
  {
   "cell_type": "markdown",
   "metadata": {},
   "source": [
    "### Importin necessary sklearn modules"
   ]
  },
  {
   "cell_type": "code",
   "execution_count": 38,
   "metadata": {},
   "outputs": [],
   "source": [
    "from sklearn.model_selection import train_test_split, RandomizedSearchCV\n",
    "from sklearn.linear_model import LinearRegression, Ridge, Lasso, ElasticNet\n",
    "from sklearn.preprocessing import PolynomialFeatures\n",
    "from sklearn.pipeline import make_pipeline\n",
    "from sklearn.model_selection import cross_val_score, train_test_split, KFold, GridSearchCV\n",
    "from sklearn.ensemble import RandomForestRegressor, ExtraTreesRegressor\n",
    "from sklearn import metrics"
   ]
  },
  {
   "cell_type": "markdown",
   "metadata": {},
   "source": [
    "### Function to get metrics for a model"
   ]
  },
  {
   "cell_type": "code",
   "execution_count": 39,
   "metadata": {},
   "outputs": [],
   "source": [
    "def get_metrics(model):\n",
    "    print(f'Train score {model.score(X_train, y_train)}')\n",
    "    print(f'Val score {model.score(X_val, y_val)}')\n",
    "    print(\"MAE:\" , metrics.mean_absolute_error(y_val,model.predict(X_val)))\n",
    "    print(\"MSE:\" , metrics.mean_squared_error(y_val,model.predict(X_val)))\n",
    "    print(\"RMSE:\" , np.sqrt(metrics.mean_squared_error(y_val,model.predict(X_val))))"
   ]
  },
  {
   "cell_type": "markdown",
   "metadata": {},
   "source": [
    "### Splitting data into train and test set"
   ]
  },
  {
   "cell_type": "code",
   "execution_count": 40,
   "metadata": {},
   "outputs": [],
   "source": [
    "X_train_or, X_test, y_train_or, y_test = train_test_split(X, y, test_size=0.2)\n",
    "X_train, X_val, y_train, y_val = train_test_split(X_train_or, y_train_or, test_size=0.25)"
   ]
  },
  {
   "cell_type": "markdown",
   "metadata": {},
   "source": [
    "### Baseline Linear Regression"
   ]
  },
  {
   "cell_type": "code",
   "execution_count": 41,
   "metadata": {
    "scrolled": true
   },
   "outputs": [
    {
     "name": "stdout",
     "output_type": "stream",
     "text": [
      "Train score 0.5797706604868889\n",
      "Val score 0.49900539071224503\n",
      "MAE: 2545.7501929909567\n",
      "MSE: 22015484.99345609\n",
      "RMSE: 4692.066175306577\n"
     ]
    }
   ],
   "source": [
    "lr = LinearRegression()\n",
    "lr.fit(X_train, y_train)\n",
    "score = lr.score(X_val, y_val)\n",
    "get_metrics(lr)"
   ]
  },
  {
   "cell_type": "markdown",
   "metadata": {},
   "source": [
    "### Polynomial"
   ]
  },
  {
   "cell_type": "code",
   "execution_count": 42,
   "metadata": {
    "scrolled": false
   },
   "outputs": [
    {
     "name": "stdout",
     "output_type": "stream",
     "text": [
      "--------------------\n",
      "Degree 1\n",
      "Train score 0.579770660486889\n",
      "Val score 0.4990053907122456\n",
      "MAE: 2545.750192990944\n",
      "MSE: 22015484.99345607\n",
      "RMSE: 4692.066175306575\n",
      "--------------------\n",
      "Degree 2\n",
      "Train score 0.7664299863308068\n",
      "Val score 0.7404469015690023\n",
      "MAE: 1770.7370682500998\n",
      "MSE: 11405686.284002746\n",
      "RMSE: 3377.230564234954\n",
      "--------------------\n",
      "Degree 3\n",
      "Train score 0.8678467487564785\n",
      "Val score 0.6073440541788856\n",
      "MAE: 1439.8885241766975\n",
      "MSE: 17254698.798267763\n",
      "RMSE: 4153.8775617810115\n"
     ]
    }
   ],
   "source": [
    "for degree in [1,2,3]:\n",
    "    poly = make_pipeline(PolynomialFeatures(degree), LinearRegression())\n",
    "    poly.fit(X_train, y_train)\n",
    "    print(\"-\"*20)\n",
    "    print(\"Degree\", degree)\n",
    "    get_metrics(poly)"
   ]
  },
  {
   "cell_type": "markdown",
   "metadata": {},
   "source": [
    "### Lasso"
   ]
  },
  {
   "cell_type": "code",
   "execution_count": 43,
   "metadata": {},
   "outputs": [
    {
     "name": "stdout",
     "output_type": "stream",
     "text": [
      "Train score 0.5797347043531064\n",
      "Val score 0.5003843373596604\n",
      "MAE: 2542.12969071421\n",
      "MSE: 21954889.17334117\n",
      "RMSE: 4685.604461896157\n"
     ]
    }
   ],
   "source": [
    "lasso_model = Lasso()\n",
    "lasso_model.fit(X_train, y_train)\n",
    "get_metrics(lasso_model)"
   ]
  },
  {
   "cell_type": "markdown",
   "metadata": {},
   "source": [
    "### Ridge"
   ]
  },
  {
   "cell_type": "code",
   "execution_count": 44,
   "metadata": {},
   "outputs": [
    {
     "name": "stdout",
     "output_type": "stream",
     "text": [
      "Train score 0.579108265822739\n",
      "Val score 0.5084480772709427\n",
      "MAE: 2541.079510398661\n",
      "MSE: 21600539.76175697\n",
      "RMSE: 4647.638084205457\n"
     ]
    }
   ],
   "source": [
    "ridge_model = Ridge()\n",
    "ridge_model.fit(X_train, y_train)\n",
    "get_metrics(ridge_model)"
   ]
  },
  {
   "cell_type": "markdown",
   "metadata": {},
   "source": [
    "### ElasticNet"
   ]
  },
  {
   "cell_type": "code",
   "execution_count": 45,
   "metadata": {},
   "outputs": [
    {
     "name": "stdout",
     "output_type": "stream",
     "text": [
      "Train score 0.15103253090000457\n",
      "Val score 0.16785313077680464\n",
      "MAE: 3000.6360740530945\n",
      "MSE: 36567493.086961046\n",
      "RMSE: 6047.1061746062505\n"
     ]
    }
   ],
   "source": [
    "EN_model = ElasticNet(alpha=1)\n",
    "EN_model.fit(X_train, y_train)\n",
    "EN_model.score(X_val, y_val)\n",
    "get_metrics(EN_model)"
   ]
  },
  {
   "cell_type": "markdown",
   "metadata": {},
   "source": [
    "### Random Forest"
   ]
  },
  {
   "cell_type": "code",
   "execution_count": 46,
   "metadata": {},
   "outputs": [
    {
     "name": "stdout",
     "output_type": "stream",
     "text": [
      "Train score 0.9620306298161572\n",
      "Val score 0.8133745944011803\n",
      "MAE: 871.1696770424129\n",
      "MSE: 8200984.0828418955\n",
      "RMSE: 2863.736035817878\n"
     ]
    }
   ],
   "source": [
    "rf = RandomForestRegressor()\n",
    "rf.fit(X_train,y_train)\n",
    "get_metrics(rf)"
   ]
  },
  {
   "cell_type": "code",
   "execution_count": 47,
   "metadata": {
    "scrolled": false
   },
   "outputs": [
    {
     "data": {
      "text/html": [
       "<div>\n",
       "<style scoped>\n",
       "    .dataframe tbody tr th:only-of-type {\n",
       "        vertical-align: middle;\n",
       "    }\n",
       "\n",
       "    .dataframe tbody tr th {\n",
       "        vertical-align: top;\n",
       "    }\n",
       "\n",
       "    .dataframe thead th {\n",
       "        text-align: right;\n",
       "    }\n",
       "</style>\n",
       "<table border=\"1\" class=\"dataframe\">\n",
       "  <thead>\n",
       "    <tr style=\"text-align: right;\">\n",
       "      <th></th>\n",
       "      <th>Predicted Price</th>\n",
       "      <th>Actual Price</th>\n",
       "    </tr>\n",
       "  </thead>\n",
       "  <tbody>\n",
       "    <tr>\n",
       "      <th>0</th>\n",
       "      <td>4284.445000</td>\n",
       "      <td>3500</td>\n",
       "    </tr>\n",
       "    <tr>\n",
       "      <th>1</th>\n",
       "      <td>2849.464286</td>\n",
       "      <td>2532</td>\n",
       "    </tr>\n",
       "    <tr>\n",
       "      <th>2</th>\n",
       "      <td>4121.524000</td>\n",
       "      <td>3837</td>\n",
       "    </tr>\n",
       "    <tr>\n",
       "      <th>3</th>\n",
       "      <td>4292.830000</td>\n",
       "      <td>4225</td>\n",
       "    </tr>\n",
       "    <tr>\n",
       "      <th>4</th>\n",
       "      <td>3763.676000</td>\n",
       "      <td>4599</td>\n",
       "    </tr>\n",
       "    <tr>\n",
       "      <th>...</th>\n",
       "      <td>...</td>\n",
       "      <td>...</td>\n",
       "    </tr>\n",
       "    <tr>\n",
       "      <th>3795</th>\n",
       "      <td>3761.083333</td>\n",
       "      <td>3913</td>\n",
       "    </tr>\n",
       "    <tr>\n",
       "      <th>3796</th>\n",
       "      <td>4891.590000</td>\n",
       "      <td>4745</td>\n",
       "    </tr>\n",
       "    <tr>\n",
       "      <th>3797</th>\n",
       "      <td>4563.160000</td>\n",
       "      <td>4898</td>\n",
       "    </tr>\n",
       "    <tr>\n",
       "      <th>3798</th>\n",
       "      <td>16582.574167</td>\n",
       "      <td>4026</td>\n",
       "    </tr>\n",
       "    <tr>\n",
       "      <th>3799</th>\n",
       "      <td>3326.940000</td>\n",
       "      <td>3659</td>\n",
       "    </tr>\n",
       "  </tbody>\n",
       "</table>\n",
       "<p>3800 rows × 2 columns</p>\n",
       "</div>"
      ],
      "text/plain": [
       "      Predicted Price  Actual Price\n",
       "0         4284.445000          3500\n",
       "1         2849.464286          2532\n",
       "2         4121.524000          3837\n",
       "3         4292.830000          4225\n",
       "4         3763.676000          4599\n",
       "...               ...           ...\n",
       "3795      3761.083333          3913\n",
       "3796      4891.590000          4745\n",
       "3797      4563.160000          4898\n",
       "3798     16582.574167          4026\n",
       "3799      3326.940000          3659\n",
       "\n",
       "[3800 rows x 2 columns]"
      ]
     },
     "execution_count": 47,
     "metadata": {},
     "output_type": "execute_result"
    }
   ],
   "source": [
    "test_df = pd.DataFrame({\n",
    "    \"Predicted Price\" : rf.predict(X_test),\n",
    "    \"Actual Price\" : y_test,\n",
    "}).reset_index(drop = True)\n",
    "\n",
    "test_df"
   ]
  },
  {
   "cell_type": "markdown",
   "metadata": {},
   "source": [
    "### Saving The Final Model"
   ]
  },
  {
   "cell_type": "code",
   "execution_count": 48,
   "metadata": {},
   "outputs": [],
   "source": [
    "import pickle as pkl"
   ]
  },
  {
   "cell_type": "code",
   "execution_count": null,
   "metadata": {},
   "outputs": [],
   "source": [
    "file = open('rf_flight_prediction.pkl', 'wb')\n",
    "pkl.dump(rf, file)"
   ]
  },
  {
   "cell_type": "code",
   "execution_count": null,
   "metadata": {},
   "outputs": [],
   "source": [
    "model = open('rf_flight_prediction.pkl','rb')\n",
    "rf_flight_prediction = pkl.load(model)"
   ]
  },
  {
   "cell_type": "code",
   "execution_count": 52,
   "metadata": {},
   "outputs": [
    {
     "name": "stdout",
     "output_type": "stream",
     "text": [
      "R2 score 0.8679532107668898\n",
      "MAE:  843.6504161602686\n",
      "MSE:  6880588.97310834\n",
      "RMSE:  2623.087679264332\n"
     ]
    }
   ],
   "source": [
    "print(f'R2 score {metrics.r2_score(y_test,rf_flight_prediction.predict(X_test))}')\n",
    "print(\"MAE: \" , metrics.mean_absolute_error(y_test,rf_flight_prediction.predict(X_test)))\n",
    "print(\"MSE: \" , metrics.mean_squared_error(y_test,rf_flight_prediction.predict(X_test)))\n",
    "print(\"RMSE: \" , np.sqrt(metrics.mean_squared_error(y_test,rf_flight_prediction.predict(X_test))))"
   ]
  }
 ],
 "metadata": {
  "kernelspec": {
   "display_name": "Python 3",
   "language": "python",
   "name": "python3"
  },
  "language_info": {
   "codemirror_mode": {
    "name": "ipython",
    "version": 3
   },
   "file_extension": ".py",
   "mimetype": "text/x-python",
   "name": "python",
   "nbconvert_exporter": "python",
   "pygments_lexer": "ipython3",
   "version": "3.8.5"
  }
 },
 "nbformat": 4,
 "nbformat_minor": 4
}
